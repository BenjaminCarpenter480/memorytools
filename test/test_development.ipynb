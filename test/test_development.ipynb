{
 "cells": [
  {
   "cell_type": "code",
   "execution_count": 1,
   "metadata": {},
   "outputs": [
    {
     "name": "stdout",
     "output_type": "stream",
     "text": [
      "Processing /home/bpc/Documents/memorytools\n",
      "  Installing build dependencies ... \u001b[?25ldone\n",
      "\u001b[?25h  Getting requirements to build wheel ... \u001b[?25ldone\n",
      "\u001b[?25h  Installing backend dependencies ... \u001b[?25ldone\n",
      "\u001b[?25h  Preparing metadata (pyproject.toml) ... \u001b[?25ldone\n",
      "\u001b[?25hBuilding wheels for collected packages: memorytools\n",
      "  Building wheel for memorytools (pyproject.toml) ... \u001b[?25ldone\n",
      "\u001b[?25h  Created wheel for memorytools: filename=memorytools-0.1.0-py3-none-any.whl size=10481 sha256=577254da187993bcf97118b2f769c36f77ec3db061ea2ac0321130f27d4a5a28\n",
      "  Stored in directory: /tmp/pip-ephem-wheel-cache-e935f4fu/wheels/83/d1/b0/5f5772eb16dc6152c130b096fab71055d247aea68ef4046965\n",
      "Successfully built memorytools\n",
      "Installing collected packages: memorytools\n",
      "  Attempting uninstall: memorytools\n",
      "    Found existing installation: memorytools 0.1.0\n",
      "    Uninstalling memorytools-0.1.0:\n",
      "      Successfully uninstalled memorytools-0.1.0\n",
      "Successfully installed memorytools-0.1.0\n",
      "Note: you may need to restart the kernel to use updated packages.\n"
     ]
    }
   ],
   "source": [
    "%pip install .."
   ]
  },
  {
   "cell_type": "code",
   "execution_count": 2,
   "metadata": {},
   "outputs": [],
   "source": [
    "import test_memory_monitor\n",
    "from memorytools.memorymonitor import MemoryMonitor"
   ]
  },
  {
   "cell_type": "markdown",
   "metadata": {},
   "source": [
    "# Test Server\n",
    "\n",
    "The test server stored in [test/test_server.py](memorytools/test/test_server.py) provides an example program for development and testing of the memory monitor, it has the ability to act like a memory leaking process and a normal process that properly tidies up after itself. \n",
    "\n",
    "The test server provides a practical and controlled environment to test the effectiveness of the memory monitor. We can use this to ensure it can accurately track memory usage and identify memory leaks. \n",
    "\n",
    "After creating a function which simulates memory leaks in reference to the general forms which these take as suggested in [Memory Leak Detection in Cloud based infastructure](), testing these via visulisation and comparison, adjusting the time frames for the simulator such that they match the timeframes we might expect for a unit test (at a minimum). We shall then work to apply the LBR method onto the simulator, tuning a number of the parameters to detect the leaks.\n",
    "\n",
    "Once we were able to detect simulated memory leaks we try applying the methods to known leaking and not leaking revisions of TDCS to see how this works.\n"
   ]
  },
  {
   "cell_type": "markdown",
   "metadata": {},
   "source": [
    "## Startup test server"
   ]
  },
  {
   "cell_type": "code",
   "execution_count": 3,
   "metadata": {},
   "outputs": [
    {
     "name": "stdout",
     "output_type": "stream",
     "text": [
      "Serving at port 8130\n"
     ]
    }
   ],
   "source": [
    "import subprocess\n",
    "import time\n",
    "\n",
    "global PORT\n",
    "PORT = 8130\n",
    "\n",
    "#Spawn a test_server.py with Popen, yield and then kill it\n",
    "proc = subprocess.Popen([\"python3\", \"test_server.py\"])\n",
    "if(proc.poll() is not None):\n",
    "    proc.kill()\n",
    "    raise Exception(\"Test server failed to start\")\n",
    "time.sleep(5)"
   ]
  },
  {
   "cell_type": "code",
   "execution_count": 4,
   "metadata": {},
   "outputs": [
    {
     "data": {
      "text/plain": [
       "199377"
      ]
     },
     "execution_count": 4,
     "metadata": {},
     "output_type": "execute_result"
    }
   ],
   "source": [
    "proc.pid"
   ]
  },
  {
   "cell_type": "markdown",
   "metadata": {},
   "source": [
    "## Functions for interacting with the test server"
   ]
  },
  {
   "cell_type": "code",
   "execution_count": 5,
   "metadata": {},
   "outputs": [],
   "source": [
    "import requests\n",
    "\n",
    "\n",
    "def send_memory_request(server=None):\n",
    "    response = requests.get(f\"http://127.0.0.1:8130/addmem\")\n",
    "    assert response.status_code==200\n",
    "\n",
    "def send_memory_clear_request(server=None):\n",
    "    send_memory_request(server)\n",
    "    response = requests.get(f\"http://127.0.0.1:8130/clrmem\")\n",
    "    assert response.status_code==200\n",
    "\n",
    "\n",
    "import time\n"
   ]
  },
  {
   "cell_type": "markdown",
   "metadata": {},
   "source": [
    "# Simple memory leak "
   ]
  },
  {
   "cell_type": "markdown",
   "metadata": {},
   "source": [
    "We start by simulating a memory leak that shows a very simple memory leak that simply increased memory usage over time. This is at a consistent rate with no major gaps either in the data or between increase in memory usage. A memory leak occurs when a program allocates memory but fails to release it, leading to a gradual increase in memory usage over time. \n",
    "\n",
    "The function provides a way to simulate a memory leak by continuously sending a memory request to the test server for a passed in duration with sleeps between these requests of a size duration/50 which simulates a the delay between real life memory allocations. 50 iterations are used to ensure we get a large number of memory increases.\n",
    "\n",
    "This case, where memory usage consistently increases without any major gaps in the data or between the increases, would be characteristic of a leak from a specific section of code that is allocating and then not releasng memory."
   ]
  },
  {
   "cell_type": "markdown",
   "metadata": {},
   "source": [
    "## Simple memory leak function "
   ]
  },
  {
   "cell_type": "code",
   "execution_count": 6,
   "metadata": {},
   "outputs": [],
   "source": [
    "def simulate_memory_leak(server, duration=60):\n",
    "    \"\"\"\n",
    "    Simulate a memory leak by continuously sending memory requests to a server.\n",
    "\n",
    "    Parameters:\n",
    "    server: The server to send the memory requests to.\n",
    "    duration: The duration in seconds for which to simulate the memory leak, in seconds. Defaults to 60.\n",
    "    \"\"\"\n",
    "    send_memory_clear_request(server)\n",
    "    start_time = time.time()\n",
    "    while time.time() - start_time < duration:\n",
    "        send_memory_request(server)\n",
    "        time.sleep(duration/20)  # Pause for a second between requests"
   ]
  },
  {
   "cell_type": "markdown",
   "metadata": {},
   "source": [
    "## Internal parameters "
   ]
  },
  {
   "cell_type": "code",
   "execution_count": 7,
   "metadata": {},
   "outputs": [],
   "source": [
    "#Parameters\n",
    "from memorytools import memoryanalysis\n",
    "from datetime import timedelta\n",
    "import psutil as ps\n",
    "\n",
    "memoryanalysis.WIN_MIN_NUM_POINTS_RESAMPLE = 10 #Number of points in a dataset required to do a resample/any further analysis. Filters out very short running processes\n",
    "memoryanalysis.RESAMPLE_MIN_WIN = timedelta(seconds=0.5).total_seconds() # 5ms as the resampled minimum domain gaps, should be an increase on the recorded delta time\n",
    "memoryanalysis.WIN_MIN_NUM_POINTS_DETECT =  int(600) # points = 1s would be the smallest window size even allowed such that only behaviour that lasts for this amount of time is considered\n",
    "memoryanalysis.R_SQR_MIN = 0.9 #Require an increased confidence from the papers default of 0.8 since we are using a significantly smaller window size\n",
    "memoryanalysis.CRITICAL_TIME_MAX = 60*60*1 # 1 hours\n",
    "memoryanalysis.CRITICAL_MEMORY_USAGE = ps.virtual_memory().total\n",
    "memoryanalysis.MAX_TIME_DIFF = 0.5\n",
    "memoryanalysis.DEBUG_PLOTTING = True"
   ]
  },
  {
   "cell_type": "code",
   "execution_count": 8,
   "metadata": {},
   "outputs": [],
   "source": [
    "#Parameters\n",
    "from memorytools import memoryanalysis\n",
    "from datetime import timedelta\n",
    "import psutil as ps\n",
    "\n",
    "memoryanalysis.WIN_MIN_NUM_POINTS_RESAMPLE = 10 #Number of points in a dataset required to do a resample/any further analysis. Filters out very short running processes\n",
    "memoryanalysis.RESAMPLE_MIN_WIN = timedelta(seconds=0.5).total_seconds() # 5ms as the resampled minimum domain gaps, should be an increase on the recorded delta time\n",
    "memoryanalysis.WIN_MIN_NUM_POINTS_DETECT =  int(20) # points = 10s would be the smallest window size even with \n",
    "memoryanalysis.R_SQR_MIN = 0.9 #Require an increased confidence from the papers default of 0.8 since we are using a significantly smaller window size\n",
    "memoryanalysis.CRITICAL_TIME_MAX = 60*60*1 # 1 hours\n",
    "memoryanalysis.CRITICAL_MEMORY_USAGE = ps.virtual_memory().total\n",
    "memoryanalysis.MAX_TIME_DIFF = 0.5\n",
    "memoryanalysis.DEBUG_PLOTTING = True"
   ]
  },
  {
   "cell_type": "markdown",
   "metadata": {},
   "source": [
    "## Recording and simulating of data"
   ]
  },
  {
   "cell_type": "code",
   "execution_count": 9,
   "metadata": {},
   "outputs": [
    {
     "name": "stderr",
     "output_type": "stream",
     "text": [
      "NO MEMORY DATA FILE FOUND\n"
     ]
    },
    {
     "name": "stdout",
     "output_type": "stream",
     "text": [
      "0\n",
      "Added memory\n",
      "397316096\n",
      "remove memory\n",
      "0\n",
      "Added memory\n",
      "399310848\n"
     ]
    },
    {
     "name": "stderr",
     "output_type": "stream",
     "text": [
      "127.0.0.1 - - [16/May/2024 17:07:10] \"GET /addmem HTTP/1.1\" 200 -\n",
      "127.0.0.1 - - [16/May/2024 17:07:10] \"GET /clrmem HTTP/1.1\" 200 -\n",
      "127.0.0.1 - - [16/May/2024 17:07:10] \"GET /addmem HTTP/1.1\" 200 -\n"
     ]
    },
    {
     "name": "stdout",
     "output_type": "stream",
     "text": [
      "1\n",
      "Added memory\n",
      "408313856\n"
     ]
    },
    {
     "name": "stderr",
     "output_type": "stream",
     "text": [
      "127.0.0.1 - - [16/May/2024 17:07:11] \"GET /addmem HTTP/1.1\" 200 -\n"
     ]
    },
    {
     "name": "stdout",
     "output_type": "stream",
     "text": [
      "2\n",
      "Added memory\n",
      "417312768\n"
     ]
    },
    {
     "name": "stderr",
     "output_type": "stream",
     "text": [
      "127.0.0.1 - - [16/May/2024 17:07:11] \"GET /addmem HTTP/1.1\" 200 -\n"
     ]
    },
    {
     "name": "stdout",
     "output_type": "stream",
     "text": [
      "3\n",
      "Added memory\n",
      "425312256\n"
     ]
    },
    {
     "name": "stderr",
     "output_type": "stream",
     "text": [
      "127.0.0.1 - - [16/May/2024 17:07:12] \"GET /addmem HTTP/1.1\" 200 -\n"
     ]
    },
    {
     "name": "stdout",
     "output_type": "stream",
     "text": [
      "4\n",
      "Added memory\n",
      "433311744\n"
     ]
    },
    {
     "name": "stderr",
     "output_type": "stream",
     "text": [
      "127.0.0.1 - - [16/May/2024 17:07:12] \"GET /addmem HTTP/1.1\" 200 -\n"
     ]
    },
    {
     "name": "stdout",
     "output_type": "stream",
     "text": [
      "5\n",
      "Added memory\n",
      "441311232\n"
     ]
    },
    {
     "name": "stderr",
     "output_type": "stream",
     "text": [
      "127.0.0.1 - - [16/May/2024 17:07:13] \"GET /addmem HTTP/1.1\" 200 -\n"
     ]
    },
    {
     "name": "stdout",
     "output_type": "stream",
     "text": [
      "6\n",
      "Added memory\n",
      "449314816\n"
     ]
    },
    {
     "name": "stderr",
     "output_type": "stream",
     "text": [
      "127.0.0.1 - - [16/May/2024 17:07:13] \"GET /addmem HTTP/1.1\" 200 -\n"
     ]
    },
    {
     "name": "stdout",
     "output_type": "stream",
     "text": [
      "7\n",
      "Added memory\n",
      "457314304\n"
     ]
    },
    {
     "name": "stderr",
     "output_type": "stream",
     "text": [
      "127.0.0.1 - - [16/May/2024 17:07:14] \"GET /addmem HTTP/1.1\" 200 -\n"
     ]
    },
    {
     "name": "stdout",
     "output_type": "stream",
     "text": [
      "8\n",
      "Added memory\n",
      "465313792\n"
     ]
    },
    {
     "name": "stderr",
     "output_type": "stream",
     "text": [
      "127.0.0.1 - - [16/May/2024 17:07:14] \"GET /addmem HTTP/1.1\" 200 -\n"
     ]
    },
    {
     "name": "stdout",
     "output_type": "stream",
     "text": [
      "9\n",
      "Added memory\n",
      "473313280\n"
     ]
    },
    {
     "name": "stderr",
     "output_type": "stream",
     "text": [
      "127.0.0.1 - - [16/May/2024 17:07:15] \"GET /addmem HTTP/1.1\" 200 -\n"
     ]
    },
    {
     "name": "stdout",
     "output_type": "stream",
     "text": [
      "10\n",
      "Added memory\n",
      "481312768\n"
     ]
    },
    {
     "name": "stderr",
     "output_type": "stream",
     "text": [
      "127.0.0.1 - - [16/May/2024 17:07:15] \"GET /addmem HTTP/1.1\" 200 -\n"
     ]
    },
    {
     "name": "stdout",
     "output_type": "stream",
     "text": [
      "11\n",
      "Added memory\n",
      "489312256\n"
     ]
    },
    {
     "name": "stderr",
     "output_type": "stream",
     "text": [
      "127.0.0.1 - - [16/May/2024 17:07:16] \"GET /addmem HTTP/1.1\" 200 -\n"
     ]
    },
    {
     "name": "stdout",
     "output_type": "stream",
     "text": [
      "12\n",
      "Added memory\n",
      "497311744\n"
     ]
    },
    {
     "name": "stderr",
     "output_type": "stream",
     "text": [
      "127.0.0.1 - - [16/May/2024 17:07:16] \"GET /addmem HTTP/1.1\" 200 -\n"
     ]
    },
    {
     "name": "stdout",
     "output_type": "stream",
     "text": [
      "13\n",
      "Added memory\n",
      "505311232\n"
     ]
    },
    {
     "name": "stderr",
     "output_type": "stream",
     "text": [
      "127.0.0.1 - - [16/May/2024 17:07:17] \"GET /addmem HTTP/1.1\" 200 -\n"
     ]
    },
    {
     "name": "stdout",
     "output_type": "stream",
     "text": [
      "14\n",
      "Added memory\n",
      "513314816\n"
     ]
    },
    {
     "name": "stderr",
     "output_type": "stream",
     "text": [
      "127.0.0.1 - - [16/May/2024 17:07:17] \"GET /addmem HTTP/1.1\" 200 -\n"
     ]
    },
    {
     "name": "stdout",
     "output_type": "stream",
     "text": [
      "15\n",
      "Added memory\n",
      "521314304\n"
     ]
    },
    {
     "name": "stderr",
     "output_type": "stream",
     "text": [
      "127.0.0.1 - - [16/May/2024 17:07:18] \"GET /addmem HTTP/1.1\" 200 -\n"
     ]
    },
    {
     "name": "stdout",
     "output_type": "stream",
     "text": [
      "16\n",
      "Added memory\n",
      "529313792\n"
     ]
    },
    {
     "name": "stderr",
     "output_type": "stream",
     "text": [
      "127.0.0.1 - - [16/May/2024 17:07:18] \"GET /addmem HTTP/1.1\" 200 -\n"
     ]
    },
    {
     "name": "stdout",
     "output_type": "stream",
     "text": [
      "17\n",
      "Added memory\n",
      "537313280\n"
     ]
    },
    {
     "name": "stderr",
     "output_type": "stream",
     "text": [
      "127.0.0.1 - - [16/May/2024 17:07:19] \"GET /addmem HTTP/1.1\" 200 -\n"
     ]
    },
    {
     "name": "stdout",
     "output_type": "stream",
     "text": [
      "18\n",
      "Added memory\n",
      "545312768\n"
     ]
    },
    {
     "name": "stderr",
     "output_type": "stream",
     "text": [
      "127.0.0.1 - - [16/May/2024 17:07:19] \"GET /addmem HTTP/1.1\" 200 -\n"
     ]
    },
    {
     "name": "stdout",
     "output_type": "stream",
     "text": [
      "19\n",
      "Added memory\n",
      "553312256\n"
     ]
    },
    {
     "name": "stderr",
     "output_type": "stream",
     "text": [
      "127.0.0.1 - - [16/May/2024 17:07:20] \"GET /addmem HTTP/1.1\" 200 -\n"
     ]
    }
   ],
   "source": [
    "mem_mon = MemoryMonitor(time_interval=0.05)\n",
    "mem_mon.start_monitoring()\n",
    "time.sleep(10)\n",
    "simulate_memory_leak(proc, 10)\n",
    "time.sleep(10)\n",
    "mem_mon.stop_monitoring()"
   ]
  },
  {
   "cell_type": "markdown",
   "metadata": {},
   "source": [
    "## Visulise test server to see if it matches expected"
   ]
  },
  {
   "cell_type": "code",
   "execution_count": 10,
   "metadata": {},
   "outputs": [
    {
     "data": {
      "image/png": "[encoded data removed]",
      "text/plain": [
       "<Figure size 640x480 with 1 Axes>"
      ]
     },
     "metadata": {},
     "output_type": "display_data"
    },
    {
     "data": {
      "text/plain": [
       "<module 'matplotlib.pyplot' from '/home/bpc/Documents/memorytools/.venv/lib/python3.11/site-packages/matplotlib/pyplot.py'>"
      ]
     },
     "execution_count": 10,
     "metadata": {},
     "output_type": "execute_result"
    }
   ],
   "source": [
    "mem_mon.plot_data_to_screen(proc_pids=[proc.pid])"
   ]
  },
  {
   "cell_type": "markdown",
   "metadata": {},
   "source": [
    "As we see above the test server is showing a very large growth in memory usage over time over a time period of 10 seconds, as we might expect from a extreme memory leak "
   ]
  },
  {
   "cell_type": "markdown",
   "metadata": {},
   "source": [
    "## Running leak detection algorithm on the simple memory leak simulation"
   ]
  },
  {
   "cell_type": "code",
   "execution_count": 11,
   "metadata": {},
   "outputs": [
    {
     "name": "stdout",
     "output_type": "stream",
     "text": [
      "0.9000448805032598\n"
     ]
    },
    {
     "data": {
      "image/png": "[encoded data removed]",
      "text/plain": [
       "<Figure size 640x480 with 1 Axes>"
      ]
     },
     "metadata": {},
     "output_type": "display_data"
    },
    {
     "name": "stderr",
     "output_type": "stream",
     "text": [
      "Abnormal memory usage detected in process: python3with pid 199377\n"
     ]
    },
    {
     "name": "stdout",
     "output_type": "stream",
     "text": [
      "(['python3'], [199377])\n",
      "Time taken to detect memory leak: 1.9478991031646729 seconds\n"
     ]
    }
   ],
   "source": [
    "import time\n",
    "start_time = time.time()\n",
    "print(mem_mon.detect_leaks(\"LBR\"))\n",
    "end_time = time.time() - start_time\n",
    "\n",
    "print(f\"Time taken to detect memory leak: {end_time} seconds\")"
   ]
  },
  {
   "cell_type": "markdown",
   "metadata": {},
   "source": [
    "# Sawtooth leak testing"
   ]
  },
  {
   "cell_type": "markdown",
   "metadata": {},
   "source": [
    "A sawtooth memory leak refers to a specific type of memory leak that occurs when the memory usage of a program gradually increases over time, but periodically drops back down to a lower level before increasing again. This pattern resembles the teeth of a saw, hence the name \"sawtooth.\"\n",
    "\n",
    "Memory leaks occur when a program allocates memory but fails to release it when it is no longer needed. Over time, these unreleased memory blocks accumulate, leading to increased memory usage. In a sawtooth memory leak, the memory usage periodically drops coinciding with reboots or restarts of that application or module. It can be difficult to compare these shapes since garbage collection points/normal behaviour can also cause such a pattern and would show a healthy usage of the heap.\n",
    "\n",
    "Sawtooth memory leaks can be particularly challenging to identify and fix because the periodic drops in memory usage can create the illusion that the leak is not present. However, the repeated trend of increasing memory usage over time indicates the presence of a leak that is not becoming problematic due to some form of resetting. In a lot of ESO software this resetting could be down to things like a process going to the standardised OFF state."
   ]
  },
  {
   "cell_type": "markdown",
   "metadata": {},
   "source": [
    "## Sawtooth leak function development"
   ]
  },
  {
   "cell_type": "markdown",
   "metadata": {},
   "source": [
    "The sawtooth simulation function will make use of the simple memory leak function, where a simple memory leak is simulated and then afterwards cleared, this is repeated a number of times. This is a structure that could add confusion to a detector given the clearing and growing nature."
   ]
  },
  {
   "cell_type": "code",
   "execution_count": 12,
   "metadata": {},
   "outputs": [],
   "source": [
    "def simulate_sawtooth_memory_leak(server):\n",
    "    for _ in range(3): #60 seconds \n",
    "        simulate_memory_leak(server,10)\n",
    "        send_memory_clear_request(server)"
   ]
  },
  {
   "cell_type": "markdown",
   "metadata": {},
   "source": [
    "## Recording and simulating of data"
   ]
  },
  {
   "cell_type": "code",
   "execution_count": 13,
   "metadata": {},
   "outputs": [
    {
     "name": "stderr",
     "output_type": "stream",
     "text": [
      "NO MEMORY DATA FILE FOUND\n",
      "127.0.0.1 - - [16/May/2024 17:07:33] \"GET /addmem HTTP/1.1\" 200 -\n",
      "127.0.0.1 - - [16/May/2024 17:07:33] \"GET /clrmem HTTP/1.1\" 200 -\n",
      "127.0.0.1 - - [16/May/2024 17:07:33] \"GET /addmem HTTP/1.1\" 200 -\n"
     ]
    },
    {
     "name": "stdout",
     "output_type": "stream",
     "text": [
      "20\n",
      "Added memory\n",
      "561311744\n",
      "remove memory\n",
      "0\n",
      "Added memory\n",
      "407314432\n",
      "1\n",
      "Added memory\n",
      "415313920\n"
     ]
    },
    {
     "name": "stderr",
     "output_type": "stream",
     "text": [
      "127.0.0.1 - - [16/May/2024 17:07:33] \"GET /addmem HTTP/1.1\" 200 -\n"
     ]
    },
    {
     "name": "stdout",
     "output_type": "stream",
     "text": [
      "2\n",
      "Added memory\n",
      "423313408\n"
     ]
    },
    {
     "name": "stderr",
     "output_type": "stream",
     "text": [
      "127.0.0.1 - - [16/May/2024 17:07:34] \"GET /addmem HTTP/1.1\" 200 -\n"
     ]
    },
    {
     "name": "stdout",
     "output_type": "stream",
     "text": [
      "3\n",
      "Added memory\n",
      "431312896\n"
     ]
    },
    {
     "name": "stderr",
     "output_type": "stream",
     "text": [
      "127.0.0.1 - - [16/May/2024 17:07:34] \"GET /addmem HTTP/1.1\" 200 -\n"
     ]
    },
    {
     "name": "stdout",
     "output_type": "stream",
     "text": [
      "4\n",
      "Added memory\n",
      "439312384\n"
     ]
    },
    {
     "name": "stderr",
     "output_type": "stream",
     "text": [
      "127.0.0.1 - - [16/May/2024 17:07:35] \"GET /addmem HTTP/1.1\" 200 -\n"
     ]
    },
    {
     "name": "stdout",
     "output_type": "stream",
     "text": [
      "5\n",
      "Added memory\n",
      "447311872\n"
     ]
    },
    {
     "name": "stderr",
     "output_type": "stream",
     "text": [
      "127.0.0.1 - - [16/May/2024 17:07:35] \"GET /addmem HTTP/1.1\" 200 -\n"
     ]
    },
    {
     "name": "stdout",
     "output_type": "stream",
     "text": [
      "6\n",
      "Added memory\n",
      "455315456\n"
     ]
    },
    {
     "name": "stderr",
     "output_type": "stream",
     "text": [
      "127.0.0.1 - - [16/May/2024 17:07:36] \"GET /addmem HTTP/1.1\" 200 -\n"
     ]
    },
    {
     "name": "stdout",
     "output_type": "stream",
     "text": [
      "7\n",
      "Added memory\n",
      "463314944\n"
     ]
    },
    {
     "name": "stderr",
     "output_type": "stream",
     "text": [
      "127.0.0.1 - - [16/May/2024 17:07:36] \"GET /addmem HTTP/1.1\" 200 -\n"
     ]
    },
    {
     "name": "stdout",
     "output_type": "stream",
     "text": [
      "8\n",
      "Added memory\n",
      "471314432\n"
     ]
    },
    {
     "name": "stderr",
     "output_type": "stream",
     "text": [
      "127.0.0.1 - - [16/May/2024 17:07:37] \"GET /addmem HTTP/1.1\" 200 -\n"
     ]
    },
    {
     "name": "stdout",
     "output_type": "stream",
     "text": [
      "9\n",
      "Added memory\n",
      "479313920\n"
     ]
    },
    {
     "name": "stderr",
     "output_type": "stream",
     "text": [
      "127.0.0.1 - - [16/May/2024 17:07:37] \"GET /addmem HTTP/1.1\" 200 -\n"
     ]
    },
    {
     "name": "stdout",
     "output_type": "stream",
     "text": [
      "10\n",
      "Added memory\n",
      "487313408\n"
     ]
    },
    {
     "name": "stderr",
     "output_type": "stream",
     "text": [
      "127.0.0.1 - - [16/May/2024 17:07:38] \"GET /addmem HTTP/1.1\" 200 -\n"
     ]
    },
    {
     "name": "stdout",
     "output_type": "stream",
     "text": [
      "11\n",
      "Added memory\n",
      "495312896\n"
     ]
    },
    {
     "name": "stderr",
     "output_type": "stream",
     "text": [
      "127.0.0.1 - - [16/May/2024 17:07:38] \"GET /addmem HTTP/1.1\" 200 -\n"
     ]
    },
    {
     "name": "stdout",
     "output_type": "stream",
     "text": [
      "12\n",
      "Added memory\n",
      "503312384\n"
     ]
    },
    {
     "name": "stderr",
     "output_type": "stream",
     "text": [
      "127.0.0.1 - - [16/May/2024 17:07:39] \"GET /addmem HTTP/1.1\" 200 -\n"
     ]
    },
    {
     "name": "stdout",
     "output_type": "stream",
     "text": [
      "13\n",
      "Added memory\n",
      "511311872\n"
     ]
    },
    {
     "name": "stderr",
     "output_type": "stream",
     "text": [
      "127.0.0.1 - - [16/May/2024 17:07:39] \"GET /addmem HTTP/1.1\" 200 -\n"
     ]
    },
    {
     "name": "stdout",
     "output_type": "stream",
     "text": [
      "14\n",
      "Added memory\n",
      "519315456\n"
     ]
    },
    {
     "name": "stderr",
     "output_type": "stream",
     "text": [
      "127.0.0.1 - - [16/May/2024 17:07:40] \"GET /addmem HTTP/1.1\" 200 -\n"
     ]
    },
    {
     "name": "stdout",
     "output_type": "stream",
     "text": [
      "15\n",
      "Added memory\n",
      "527314944\n"
     ]
    },
    {
     "name": "stderr",
     "output_type": "stream",
     "text": [
      "127.0.0.1 - - [16/May/2024 17:07:40] \"GET /addmem HTTP/1.1\" 200 -\n"
     ]
    },
    {
     "name": "stdout",
     "output_type": "stream",
     "text": [
      "16\n",
      "Added memory\n",
      "535314432\n"
     ]
    },
    {
     "name": "stderr",
     "output_type": "stream",
     "text": [
      "127.0.0.1 - - [16/May/2024 17:07:41] \"GET /addmem HTTP/1.1\" 200 -\n"
     ]
    },
    {
     "name": "stdout",
     "output_type": "stream",
     "text": [
      "17\n",
      "Added memory\n",
      "543313920\n"
     ]
    },
    {
     "name": "stderr",
     "output_type": "stream",
     "text": [
      "127.0.0.1 - - [16/May/2024 17:07:41] \"GET /addmem HTTP/1.1\" 200 -\n"
     ]
    },
    {
     "name": "stdout",
     "output_type": "stream",
     "text": [
      "18\n",
      "Added memory\n",
      "551313408\n"
     ]
    },
    {
     "name": "stderr",
     "output_type": "stream",
     "text": [
      "127.0.0.1 - - [16/May/2024 17:07:42] \"GET /addmem HTTP/1.1\" 200 -\n"
     ]
    },
    {
     "name": "stdout",
     "output_type": "stream",
     "text": [
      "19\n",
      "Added memory\n",
      "559312896\n"
     ]
    },
    {
     "name": "stderr",
     "output_type": "stream",
     "text": [
      "127.0.0.1 - - [16/May/2024 17:07:42] \"GET /addmem HTTP/1.1\" 200 -\n"
     ]
    },
    {
     "name": "stdout",
     "output_type": "stream",
     "text": [
      "20\n",
      "Added memory\n",
      "567312384\n",
      "remove memory\n",
      "0\n",
      "Added memory\n",
      "407314432\n",
      "remove memory\n",
      "0\n",
      "Added memory\n",
      "407314432\n"
     ]
    },
    {
     "name": "stderr",
     "output_type": "stream",
     "text": [
      "127.0.0.1 - - [16/May/2024 17:07:43] \"GET /addmem HTTP/1.1\" 200 -\n",
      "127.0.0.1 - - [16/May/2024 17:07:43] \"GET /clrmem HTTP/1.1\" 200 -\n",
      "127.0.0.1 - - [16/May/2024 17:07:43] \"GET /addmem HTTP/1.1\" 200 -\n",
      "127.0.0.1 - - [16/May/2024 17:07:43] \"GET /clrmem HTTP/1.1\" 200 -\n",
      "127.0.0.1 - - [16/May/2024 17:07:43] \"GET /addmem HTTP/1.1\" 200 -\n"
     ]
    },
    {
     "name": "stdout",
     "output_type": "stream",
     "text": [
      "1\n",
      "Added memory\n",
      "415313920\n"
     ]
    },
    {
     "name": "stderr",
     "output_type": "stream",
     "text": [
      "127.0.0.1 - - [16/May/2024 17:07:44] \"GET /addmem HTTP/1.1\" 200 -\n"
     ]
    },
    {
     "name": "stdout",
     "output_type": "stream",
     "text": [
      "2\n",
      "Added memory\n",
      "423313408\n"
     ]
    },
    {
     "name": "stderr",
     "output_type": "stream",
     "text": [
      "127.0.0.1 - - [16/May/2024 17:07:44] \"GET /addmem HTTP/1.1\" 200 -\n"
     ]
    },
    {
     "name": "stdout",
     "output_type": "stream",
     "text": [
      "3\n",
      "Added memory\n",
      "431312896\n"
     ]
    },
    {
     "name": "stderr",
     "output_type": "stream",
     "text": [
      "127.0.0.1 - - [16/May/2024 17:07:45] \"GET /addmem HTTP/1.1\" 200 -\n"
     ]
    },
    {
     "name": "stdout",
     "output_type": "stream",
     "text": [
      "4\n",
      "Added memory\n",
      "439312384\n"
     ]
    },
    {
     "name": "stderr",
     "output_type": "stream",
     "text": [
      "127.0.0.1 - - [16/May/2024 17:07:45] \"GET /addmem HTTP/1.1\" 200 -\n"
     ]
    },
    {
     "name": "stdout",
     "output_type": "stream",
     "text": [
      "5\n",
      "Added memory\n",
      "447311872\n"
     ]
    },
    {
     "name": "stderr",
     "output_type": "stream",
     "text": [
      "127.0.0.1 - - [16/May/2024 17:07:46] \"GET /addmem HTTP/1.1\" 200 -\n"
     ]
    },
    {
     "name": "stdout",
     "output_type": "stream",
     "text": [
      "6\n",
      "Added memory\n",
      "455315456\n"
     ]
    },
    {
     "name": "stderr",
     "output_type": "stream",
     "text": [
      "127.0.0.1 - - [16/May/2024 17:07:46] \"GET /addmem HTTP/1.1\" 200 -\n"
     ]
    },
    {
     "name": "stdout",
     "output_type": "stream",
     "text": [
      "7\n",
      "Added memory\n",
      "463314944\n"
     ]
    },
    {
     "name": "stderr",
     "output_type": "stream",
     "text": [
      "127.0.0.1 - - [16/May/2024 17:07:47] \"GET /addmem HTTP/1.1\" 200 -\n"
     ]
    },
    {
     "name": "stdout",
     "output_type": "stream",
     "text": [
      "8\n",
      "Added memory\n",
      "471314432\n"
     ]
    },
    {
     "name": "stderr",
     "output_type": "stream",
     "text": [
      "127.0.0.1 - - [16/May/2024 17:07:47] \"GET /addmem HTTP/1.1\" 200 -\n"
     ]
    },
    {
     "name": "stdout",
     "output_type": "stream",
     "text": [
      "9\n",
      "Added memory\n",
      "479313920\n"
     ]
    },
    {
     "name": "stderr",
     "output_type": "stream",
     "text": [
      "127.0.0.1 - - [16/May/2024 17:07:48] \"GET /addmem HTTP/1.1\" 200 -\n"
     ]
    },
    {
     "name": "stdout",
     "output_type": "stream",
     "text": [
      "10\n",
      "Added memory\n",
      "487313408\n"
     ]
    },
    {
     "name": "stderr",
     "output_type": "stream",
     "text": [
      "127.0.0.1 - - [16/May/2024 17:07:48] \"GET /addmem HTTP/1.1\" 200 -\n"
     ]
    },
    {
     "name": "stdout",
     "output_type": "stream",
     "text": [
      "11\n",
      "Added memory\n",
      "495312896\n"
     ]
    },
    {
     "name": "stderr",
     "output_type": "stream",
     "text": [
      "127.0.0.1 - - [16/May/2024 17:07:49] \"GET /addmem HTTP/1.1\" 200 -\n"
     ]
    },
    {
     "name": "stdout",
     "output_type": "stream",
     "text": [
      "12\n",
      "Added memory\n",
      "503312384\n"
     ]
    },
    {
     "name": "stderr",
     "output_type": "stream",
     "text": [
      "127.0.0.1 - - [16/May/2024 17:07:49] \"GET /addmem HTTP/1.1\" 200 -\n"
     ]
    },
    {
     "name": "stdout",
     "output_type": "stream",
     "text": [
      "13\n",
      "Added memory\n",
      "511311872\n"
     ]
    },
    {
     "name": "stderr",
     "output_type": "stream",
     "text": [
      "127.0.0.1 - - [16/May/2024 17:07:50] \"GET /addmem HTTP/1.1\" 200 -\n"
     ]
    },
    {
     "name": "stdout",
     "output_type": "stream",
     "text": [
      "14\n",
      "Added memory\n",
      "519315456\n"
     ]
    },
    {
     "name": "stderr",
     "output_type": "stream",
     "text": [
      "127.0.0.1 - - [16/May/2024 17:07:50] \"GET /addmem HTTP/1.1\" 200 -\n"
     ]
    },
    {
     "name": "stdout",
     "output_type": "stream",
     "text": [
      "15\n",
      "Added memory\n",
      "527314944\n"
     ]
    },
    {
     "name": "stderr",
     "output_type": "stream",
     "text": [
      "127.0.0.1 - - [16/May/2024 17:07:51] \"GET /addmem HTTP/1.1\" 200 -\n"
     ]
    },
    {
     "name": "stdout",
     "output_type": "stream",
     "text": [
      "16\n",
      "Added memory\n",
      "535314432\n"
     ]
    },
    {
     "name": "stderr",
     "output_type": "stream",
     "text": [
      "127.0.0.1 - - [16/May/2024 17:07:51] \"GET /addmem HTTP/1.1\" 200 -\n"
     ]
    },
    {
     "name": "stdout",
     "output_type": "stream",
     "text": [
      "17\n",
      "Added memory\n",
      "543313920\n"
     ]
    },
    {
     "name": "stderr",
     "output_type": "stream",
     "text": [
      "127.0.0.1 - - [16/May/2024 17:07:52] \"GET /addmem HTTP/1.1\" 200 -\n"
     ]
    },
    {
     "name": "stdout",
     "output_type": "stream",
     "text": [
      "18\n",
      "Added memory\n",
      "551313408\n"
     ]
    },
    {
     "name": "stderr",
     "output_type": "stream",
     "text": [
      "127.0.0.1 - - [16/May/2024 17:07:52] \"GET /addmem HTTP/1.1\" 200 -\n"
     ]
    },
    {
     "name": "stdout",
     "output_type": "stream",
     "text": [
      "19\n",
      "Added memory\n",
      "559312896\n"
     ]
    },
    {
     "name": "stderr",
     "output_type": "stream",
     "text": [
      "127.0.0.1 - - [16/May/2024 17:07:53] \"GET /addmem HTTP/1.1\" 200 -\n"
     ]
    },
    {
     "name": "stdout",
     "output_type": "stream",
     "text": [
      "20\n",
      "Added memory\n",
      "567312384\n",
      "remove memory\n",
      "0\n",
      "Added memory\n",
      "407314432\n",
      "remove memory\n",
      "0\n",
      "Added memory\n",
      "407314432\n"
     ]
    },
    {
     "name": "stderr",
     "output_type": "stream",
     "text": [
      "127.0.0.1 - - [16/May/2024 17:07:53] \"GET /addmem HTTP/1.1\" 200 -\n",
      "127.0.0.1 - - [16/May/2024 17:07:53] \"GET /clrmem HTTP/1.1\" 200 -\n",
      "127.0.0.1 - - [16/May/2024 17:07:53] \"GET /addmem HTTP/1.1\" 200 -\n",
      "127.0.0.1 - - [16/May/2024 17:07:53] \"GET /clrmem HTTP/1.1\" 200 -\n",
      "127.0.0.1 - - [16/May/2024 17:07:53] \"GET /addmem HTTP/1.1\" 200 -\n"
     ]
    },
    {
     "name": "stdout",
     "output_type": "stream",
     "text": [
      "1\n",
      "Added memory\n",
      "415313920\n"
     ]
    },
    {
     "name": "stderr",
     "output_type": "stream",
     "text": [
      "127.0.0.1 - - [16/May/2024 17:07:54] \"GET /addmem HTTP/1.1\" 200 -\n"
     ]
    },
    {
     "name": "stdout",
     "output_type": "stream",
     "text": [
      "2\n",
      "Added memory\n",
      "423313408\n"
     ]
    },
    {
     "name": "stderr",
     "output_type": "stream",
     "text": [
      "127.0.0.1 - - [16/May/2024 17:07:54] \"GET /addmem HTTP/1.1\" 200 -\n"
     ]
    },
    {
     "name": "stdout",
     "output_type": "stream",
     "text": [
      "3\n",
      "Added memory\n",
      "431312896\n"
     ]
    },
    {
     "name": "stderr",
     "output_type": "stream",
     "text": [
      "127.0.0.1 - - [16/May/2024 17:07:55] \"GET /addmem HTTP/1.1\" 200 -\n"
     ]
    },
    {
     "name": "stdout",
     "output_type": "stream",
     "text": [
      "4\n",
      "Added memory\n",
      "439312384\n"
     ]
    },
    {
     "name": "stderr",
     "output_type": "stream",
     "text": [
      "127.0.0.1 - - [16/May/2024 17:07:55] \"GET /addmem HTTP/1.1\" 200 -\n"
     ]
    },
    {
     "name": "stdout",
     "output_type": "stream",
     "text": [
      "5\n",
      "Added memory\n",
      "447311872\n"
     ]
    },
    {
     "name": "stderr",
     "output_type": "stream",
     "text": [
      "127.0.0.1 - - [16/May/2024 17:07:56] \"GET /addmem HTTP/1.1\" 200 -\n"
     ]
    },
    {
     "name": "stdout",
     "output_type": "stream",
     "text": [
      "6\n",
      "Added memory\n",
      "455315456\n"
     ]
    },
    {
     "name": "stderr",
     "output_type": "stream",
     "text": [
      "127.0.0.1 - - [16/May/2024 17:07:56] \"GET /addmem HTTP/1.1\" 200 -\n"
     ]
    },
    {
     "name": "stdout",
     "output_type": "stream",
     "text": [
      "7\n",
      "Added memory\n",
      "463314944\n"
     ]
    },
    {
     "name": "stderr",
     "output_type": "stream",
     "text": [
      "127.0.0.1 - - [16/May/2024 17:07:57] \"GET /addmem HTTP/1.1\" 200 -\n"
     ]
    },
    {
     "name": "stdout",
     "output_type": "stream",
     "text": [
      "8\n",
      "Added memory\n",
      "471314432\n"
     ]
    },
    {
     "name": "stderr",
     "output_type": "stream",
     "text": [
      "127.0.0.1 - - [16/May/2024 17:07:57] \"GET /addmem HTTP/1.1\" 200 -\n"
     ]
    },
    {
     "name": "stdout",
     "output_type": "stream",
     "text": [
      "9\n",
      "Added memory\n",
      "479313920\n"
     ]
    },
    {
     "name": "stderr",
     "output_type": "stream",
     "text": [
      "127.0.0.1 - - [16/May/2024 17:07:58] \"GET /addmem HTTP/1.1\" 200 -\n"
     ]
    },
    {
     "name": "stdout",
     "output_type": "stream",
     "text": [
      "10\n",
      "Added memory\n",
      "487313408\n"
     ]
    },
    {
     "name": "stderr",
     "output_type": "stream",
     "text": [
      "127.0.0.1 - - [16/May/2024 17:07:58] \"GET /addmem HTTP/1.1\" 200 -\n"
     ]
    },
    {
     "name": "stdout",
     "output_type": "stream",
     "text": [
      "11\n",
      "Added memory\n",
      "495312896\n"
     ]
    },
    {
     "name": "stderr",
     "output_type": "stream",
     "text": [
      "127.0.0.1 - - [16/May/2024 17:07:59] \"GET /addmem HTTP/1.1\" 200 -\n"
     ]
    },
    {
     "name": "stdout",
     "output_type": "stream",
     "text": [
      "12\n",
      "Added memory\n",
      "503312384\n"
     ]
    },
    {
     "name": "stderr",
     "output_type": "stream",
     "text": [
      "127.0.0.1 - - [16/May/2024 17:07:59] \"GET /addmem HTTP/1.1\" 200 -\n"
     ]
    },
    {
     "name": "stdout",
     "output_type": "stream",
     "text": [
      "13\n",
      "Added memory\n",
      "511311872\n"
     ]
    },
    {
     "name": "stderr",
     "output_type": "stream",
     "text": [
      "127.0.0.1 - - [16/May/2024 17:08:00] \"GET /addmem HTTP/1.1\" 200 -\n"
     ]
    },
    {
     "name": "stdout",
     "output_type": "stream",
     "text": [
      "14\n",
      "Added memory\n",
      "519315456\n"
     ]
    },
    {
     "name": "stderr",
     "output_type": "stream",
     "text": [
      "127.0.0.1 - - [16/May/2024 17:08:01] \"GET /addmem HTTP/1.1\" 200 -\n"
     ]
    },
    {
     "name": "stdout",
     "output_type": "stream",
     "text": [
      "15\n",
      "Added memory\n",
      "527314944\n"
     ]
    },
    {
     "name": "stderr",
     "output_type": "stream",
     "text": [
      "127.0.0.1 - - [16/May/2024 17:08:01] \"GET /addmem HTTP/1.1\" 200 -\n"
     ]
    },
    {
     "name": "stdout",
     "output_type": "stream",
     "text": [
      "16\n",
      "Added memory\n",
      "535314432\n"
     ]
    },
    {
     "name": "stderr",
     "output_type": "stream",
     "text": [
      "127.0.0.1 - - [16/May/2024 17:08:02] \"GET /addmem HTTP/1.1\" 200 -\n"
     ]
    },
    {
     "name": "stdout",
     "output_type": "stream",
     "text": [
      "17\n",
      "Added memory\n",
      "543313920\n"
     ]
    },
    {
     "name": "stderr",
     "output_type": "stream",
     "text": [
      "127.0.0.1 - - [16/May/2024 17:08:02] \"GET /addmem HTTP/1.1\" 200 -\n"
     ]
    },
    {
     "name": "stdout",
     "output_type": "stream",
     "text": [
      "18\n",
      "Added memory\n",
      "551313408\n"
     ]
    },
    {
     "name": "stderr",
     "output_type": "stream",
     "text": [
      "127.0.0.1 - - [16/May/2024 17:08:03] \"GET /addmem HTTP/1.1\" 200 -\n"
     ]
    },
    {
     "name": "stdout",
     "output_type": "stream",
     "text": [
      "19\n",
      "Added memory\n",
      "559312896\n"
     ]
    },
    {
     "name": "stderr",
     "output_type": "stream",
     "text": [
      "127.0.0.1 - - [16/May/2024 17:08:03] \"GET /addmem HTTP/1.1\" 200 -\n"
     ]
    },
    {
     "name": "stdout",
     "output_type": "stream",
     "text": [
      "20\n",
      "Added memory\n",
      "567312384\n",
      "remove memory\n"
     ]
    },
    {
     "name": "stderr",
     "output_type": "stream",
     "text": [
      "127.0.0.1 - - [16/May/2024 17:08:04] \"GET /addmem HTTP/1.1\" 200 -\n",
      "127.0.0.1 - - [16/May/2024 17:08:04] \"GET /clrmem HTTP/1.1\" 200 -\n"
     ]
    }
   ],
   "source": [
    "mem_mon_sawtooth = MemoryMonitor(time_interval=0.05)\n",
    "mem_mon_sawtooth.start_monitoring()\n",
    "time.sleep(10)\n",
    "simulate_sawtooth_memory_leak(proc)\n",
    "time.sleep(10)\n",
    "mem_mon_sawtooth.stop_monitoring()"
   ]
  },
  {
   "cell_type": "markdown",
   "metadata": {},
   "source": [
    "## Visulising the simulator data "
   ]
  },
  {
   "cell_type": "code",
   "execution_count": 14,
   "metadata": {},
   "outputs": [
    {
     "data": {
      "image/png": "[encoded data removed]",
      "text/plain": [
       "<Figure size 640x480 with 1 Axes>"
      ]
     },
     "metadata": {},
     "output_type": "display_data"
    },
    {
     "data": {
      "text/plain": [
       "<module 'matplotlib.pyplot' from '/home/bpc/Documents/memorytools/.venv/lib/python3.11/site-packages/matplotlib/pyplot.py'>"
      ]
     },
     "execution_count": 14,
     "metadata": {},
     "output_type": "execute_result"
    }
   ],
   "source": [
    "mem_mon_sawtooth.plot_data_to_screen([proc.pid])"
   ]
  },
  {
   "cell_type": "markdown",
   "metadata": {},
   "source": [
    "We see above the typically expected sawtooth shape of the sawtooth leak with expected peaks and resets in memory utilisation"
   ]
  },
  {
   "cell_type": "markdown",
   "metadata": {},
   "source": [
    "## Run the leak detection algorithm"
   ]
  },
  {
   "cell_type": "code",
   "execution_count": 15,
   "metadata": {},
   "outputs": [
    {
     "name": "stdout",
     "output_type": "stream",
     "text": [
      "0.9999999994522613\n"
     ]
    },
    {
     "data": {
      "image/png": "[encoded data removed]",
      "text/plain": [
       "<Figure size 640x480 with 1 Axes>"
      ]
     },
     "metadata": {},
     "output_type": "display_data"
    },
    {
     "name": "stderr",
     "output_type": "stream",
     "text": [
      "Abnormal memory usage detected in process: python3with pid 199377\n"
     ]
    }
   ],
   "source": [
    "assert proc.pid in mem_mon_sawtooth.detect_leaks(\"LBR\")[1]"
   ]
  },
  {
   "cell_type": "markdown",
   "metadata": {},
   "source": [
    "As seen above the test server's process pid is reported as anomalus with the testing. The graphic also gives information on the resampled window which suggests the error. We see that the test run is within an acceptable time for such a simple algorithm taking only 3m20s "
   ]
  },
  {
   "cell_type": "markdown",
   "metadata": {},
   "source": [
    "# Testing data with Gaps\n",
    "The MemoryAnalysis class in the memorytools/memoryanalysis.py file includes a gap filtering process as a part of the preprocessing of data. This process is necessary because the MemoryMonitor does not necessarily run continuously, it starts and stops with the unit tests. Despite this, the data is still held in the same structure since in an ideal world the time between unit tests would be neglible although realistically it is not. The gap filtering process ensures that the analysis does not resample and create windows that include a large temporal gap in recorded memory information. Data with such gaps is not reliable when resampled and should be considered a separate dataset for the analysis purposes. The process works by finding gaps above a threshold in the data (MAX_TIME_DIFF) and splitting the data into separate datasets at these gaps. We then apply a resampling on the data between gaps"
   ]
  },
  {
   "cell_type": "markdown",
   "metadata": {},
   "source": [
    "## Recording and simulating of data"
   ]
  },
  {
   "cell_type": "code",
   "execution_count": 1,
   "metadata": {},
   "outputs": [
    {
     "ename": "NameError",
     "evalue": "name 'MemoryMonitor' is not defined",
     "output_type": "error",
     "traceback": [
      "\u001b[0;31m---------------------------------------------------------------------------\u001b[0m",
      "\u001b[0;31mNameError\u001b[0m                                 Traceback (most recent call last)",
      "Cell \u001b[0;32mIn[1], line 1\u001b[0m\n\u001b[0;32m----> 1\u001b[0m mem_mon_gaps \u001b[38;5;241m=\u001b[39m \u001b[43mMemoryMonitor\u001b[49m(time_interval\u001b[38;5;241m=\u001b[39m\u001b[38;5;241m0.05\u001b[39m)\n\u001b[1;32m      2\u001b[0m mem_mon_gaps\u001b[38;5;241m.\u001b[39mstart_monitoring()\n\u001b[1;32m      3\u001b[0m time\u001b[38;5;241m.\u001b[39msleep(\u001b[38;5;241m5\u001b[39m)\n",
      "\u001b[0;31mNameError\u001b[0m: name 'MemoryMonitor' is not defined"
     ]
    }
   ],
   "source": [
    "mem_mon_gaps = MemoryMonitor(time_interval=0.05)\n",
    "mem_mon_gaps.start_monitoring()\n",
    "time.sleep(5)\n",
    "simulate_sawtooth_memory_leak(proc)\n",
    "\n",
    "# Create a gap in our memory recording\n",
    "mem_mon_gaps.stop_monitoring()\n",
    "\n",
    "time.sleep(10)\n",
    "\n",
    "mem_mon_gaps.start_monitoring()\n",
    "time.sleep(5)\n",
    "#Back to memory monitoring!\n",
    "\n",
    "simulate_memory_leak(proc,10)\n",
    "time.sleep(5)\n",
    "mem_mon_gaps.stop_monitoring()  "
   ]
  },
  {
   "cell_type": "markdown",
   "metadata": {},
   "source": [
    "## Visualising the simulator data "
   ]
  },
  {
   "cell_type": "code",
   "execution_count": 17,
   "metadata": {},
   "outputs": [
    {
     "data": {
      "image/png": "[encoded data removed]",
      "text/plain": [
       "<Figure size 640x480 with 1 Axes>"
      ]
     },
     "metadata": {},
     "output_type": "display_data"
    },
    {
     "data": {
      "text/plain": [
       "<module 'matplotlib.pyplot' from '/home/bpc/Documents/memorytools/.venv/lib/python3.11/site-packages/matplotlib/pyplot.py'>"
      ]
     },
     "execution_count": 17,
     "metadata": {},
     "output_type": "execute_result"
    }
   ],
   "source": [
    "mem_mon_gaps.plot_data_to_screen([proc.pid])"
   ]
  },
  {
   "cell_type": "markdown",
   "metadata": {},
   "source": [
    "## Run the leak detection algorithm"
   ]
  },
  {
   "cell_type": "code",
   "execution_count": 18,
   "metadata": {},
   "outputs": [
    {
     "name": "stdout",
     "output_type": "stream",
     "text": [
      "0.9999625718103009\n"
     ]
    },
    {
     "data": {
      "image/png": "[encoded data removed]",
      "text/plain": [
       "<Figure size 640x480 with 1 Axes>"
      ]
     },
     "metadata": {},
     "output_type": "display_data"
    },
    {
     "name": "stdout",
     "output_type": "stream",
     "text": [
      "0.9994987376811064\n"
     ]
    },
    {
     "data": {
      "image/png": "[encoded data removed]",
      "text/plain": [
       "<Figure size 640x480 with 1 Axes>"
      ]
     },
     "metadata": {},
     "output_type": "display_data"
    },
    {
     "name": "stderr",
     "output_type": "stream",
     "text": [
      "Abnormal memory usage detected in process: python3with pid 199377\n"
     ]
    },
    {
     "data": {
      "text/plain": [
       "(['python3'], [199377])"
      ]
     },
     "execution_count": 18,
     "metadata": {},
     "output_type": "execute_result"
    }
   ],
   "source": [
    "mem_mon_gaps.detect_leaks(\"LBR\")"
   ]
  },
  {
   "cell_type": "markdown",
   "metadata": {},
   "source": [
    "Again the leak detection algorithm has sucessfully detected an issue here, we see that there is not any detected leak in the relative data gap. We see that the time for the ananlysis of a system that is running for roughly 50s is 5 minuites. This again is a longer than ideal for a unit test but 'good enough' as a test to be run once before adding to trunk or as part of continuous integration. This is processing over 287 processes, an examplar number for the typical developers machine. "
   ]
  },
  {
   "cell_type": "code",
   "execution_count": 19,
   "metadata": {},
   "outputs": [
    {
     "data": {
      "text/plain": [
       "281"
      ]
     },
     "execution_count": 19,
     "metadata": {},
     "output_type": "execute_result"
    }
   ],
   "source": [
    "len(mem_mon_gaps.processes)"
   ]
  }
 ],
 "metadata": {
  "kernelspec": {
   "display_name": ".venv",
   "language": "python",
   "name": "python3"
  },
  "language_info": {
   "codemirror_mode": {
    "name": "ipython",
    "version": 3
   },
   "file_extension": ".py",
   "mimetype": "text/x-python",
   "name": "python",
   "nbconvert_exporter": "python",
   "pygments_lexer": "ipython3",
   "version": "3.11.6"
  }
 },
 "nbformat": 4,
 "nbformat_minor": 2
}
